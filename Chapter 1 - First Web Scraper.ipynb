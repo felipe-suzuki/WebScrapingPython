{
 "cells": [
  {
   "cell_type": "code",
   "execution_count": null,
   "id": "f7022e58",
   "metadata": {},
   "outputs": [],
   "source": [
    "#importing urlopen\n",
    "\n",
    "from urllib.request import urlopen"
   ]
  },
  {
   "cell_type": "code",
   "execution_count": null,
   "id": "2752504e",
   "metadata": {},
   "outputs": [],
   "source": [
    "#scraping the page 1 of pythonscraping.com\n",
    "\n",
    "html = urlopen('http://pythonscraping.com/pages/page1.html')\n",
    "print(html.read())"
   ]
  },
  {
   "cell_type": "code",
   "execution_count": null,
   "id": "18fa1f61",
   "metadata": {},
   "outputs": [],
   "source": [
    "#importing BeautifulSoup\n",
    "\n",
    "from bs4 import BeautifulSoup"
   ]
  },
  {
   "cell_type": "code",
   "execution_count": null,
   "id": "b32f6194",
   "metadata": {},
   "outputs": [],
   "source": [
    "#scraping the title of page 1 of pyhtonscraping.com\n",
    "\n",
    "from urllib.request import urlopen\n",
    "from bs4 import BeautifulSoup\n",
    "html = urlopen('http://www.pythonscraping.com/pages/page1.html')\n",
    "bs = BeautifulSoup(html.read(), 'html.parser')\n",
    "print(bs.h1)"
   ]
  },
  {
   "cell_type": "code",
   "execution_count": null,
   "id": "2070bbfb",
   "metadata": {},
   "outputs": [],
   "source": [
    "#calling h1 of the object\n",
    "\n",
    "bs.h1"
   ]
  },
  {
   "cell_type": "code",
   "execution_count": null,
   "id": "0c271363",
   "metadata": {},
   "outputs": [],
   "source": [
    "#calling returning the same previous result\n",
    "\n",
    "bs.html.body.h1"
   ]
  },
  {
   "cell_type": "code",
   "execution_count": null,
   "id": "bc4a2a7b",
   "metadata": {},
   "outputs": [],
   "source": [
    "from urllib.request import urlopen\n",
    "from urllib.error import HTTPError\n",
    "try:\n",
    "    html = urlopen('http://www.pythonscraping.com/pages/page1.html')\n",
    "except HTTPError as e:\n",
    "    print(e)\n",
    "    # return null, break, or do some other \"Plan B\"\n",
    "else:\n",
    "# program continues. Note: If you return or break in the\n",
    "# exception catch, you do not need to use the \"else\" statement"
   ]
  },
  {
   "cell_type": "code",
   "execution_count": null,
   "id": "70fce0f2",
   "metadata": {},
   "outputs": [],
   "source": [
    "#handling errors with try/except\n",
    "\n",
    "from urllib.request import urlopen\n",
    "from urllib.error import HTTPError\n",
    "from urllib.error import URLError\n",
    "try:\n",
    "    html = urlopen('https://pythonscrapingthisurldoesnotexist.com')\n",
    "except HTTPError as e:\n",
    "    print(e)\n",
    "except URLError as e:\n",
    "    print('The server could not be found!')\n",
    "else:\n",
    "    print('It Worked!')"
   ]
  },
  {
   "cell_type": "code",
   "execution_count": null,
   "id": "ba22cd39",
   "metadata": {},
   "outputs": [],
   "source": [
    "#modified code to get h1 from the page 1 of pythonscraping.com handling errors\n",
    "\n",
    "from urllib.request import urlopen\n",
    "from urllib.error import HTTPError\n",
    "from bs4 import BeautifulSoup\n",
    "def getTitle(url):\n",
    "    try:\n",
    "        html = urlopen(url)\n",
    "    except HTTPError as e:\n",
    "        return None\n",
    "    try:\n",
    "        bs = BeautifulSoup(html.read(), 'html.parser')\n",
    "        title = bs.body.h1\n",
    "    except AttributeError as e:\n",
    "        return None\n",
    "    return title\n",
    "title = getTitle('http://www.pythonscraping.com/pages/page1.html')\n",
    "if title == None:\n",
    "    print('Title could not be found')\n",
    "else:\n",
    "    print(title) "
   ]
  },
  {
   "cell_type": "code",
   "execution_count": null,
   "id": "d9fc1d59",
   "metadata": {},
   "outputs": [],
   "source": []
  },
  {
   "cell_type": "code",
   "execution_count": null,
   "id": "863ed9df",
   "metadata": {},
   "outputs": [],
   "source": []
  },
  {
   "cell_type": "code",
   "execution_count": null,
   "id": "3a36c03e",
   "metadata": {},
   "outputs": [],
   "source": []
  }
 ],
 "metadata": {
  "kernelspec": {
   "display_name": "Python 3 (ipykernel)",
   "language": "python",
   "name": "python3"
  },
  "language_info": {
   "codemirror_mode": {
    "name": "ipython",
    "version": 3
   },
   "file_extension": ".py",
   "mimetype": "text/x-python",
   "name": "python",
   "nbconvert_exporter": "python",
   "pygments_lexer": "ipython3",
   "version": "3.9.7"
  }
 },
 "nbformat": 4,
 "nbformat_minor": 5
}
